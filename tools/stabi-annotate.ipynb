{
 "cells": [
  {
   "cell_type": "markdown",
   "metadata": {
    "jp-MarkdownHeadingCollapsed": true
   },
   "source": [
    "# Tech housekeeping"
   ]
  },
  {
   "cell_type": "code",
   "execution_count": 1,
   "metadata": {},
   "outputs": [],
   "source": [
    "from jupyter_bbox_widget import BBoxWidget\n",
    "import ipywidgets as widgets\n",
    "import os,re\n",
    "import json\n",
    "import urllib\n",
    "import xml.etree.ElementTree as ET"
   ]
  },
  {
   "cell_type": "markdown",
   "metadata": {
    "jp-MarkdownHeadingCollapsed": true
   },
   "source": [
    "# Define where to store annotations"
   ]
  },
  {
   "cell_type": "markdown",
   "metadata": {
    "jp-MarkdownHeadingCollapsed": true
   },
   "source": [
    "We save all annotations in annotations.json\n",
    "The file has the follow format:\n",
    "\n",
    "<pre><code>\n",
    "{\n",
    "    ppn-id: {\n",
    "        page-number: [\n",
    "            {\n",
    "                x:      2788,\n",
    "                y:      607,\n",
    "                width:  1892,\n",
    "                height: 227,\n",
    "                label:  \"tibetan_content\",\n",
    "            },\n",
    "            {\n",
    "                ...\n",
    "            },\n",
    "            ...\n",
    "        ],\n",
    "        page-number: [\n",
    "            ...\n",
    "        ],\n",
    "        ...\n",
    "    },\n",
    "    ppn-id: ...\n",
    "}\n",
    "</code></pre>\n",
    "\n",
    "The following labels have been defined:\n",
    "\n",
    "<pre><code>\n",
    "    'arabic_numeral',         /* Latin number on the scan */\n",
    "    'illustration_image',     /* Image part of an illustration */\n",
    "    'illustration_caption',   /* Image caption of an illustration */\n",
    "    'tibetan_page_number',    /* Tibetan page number */\n",
    "    'chinese_text',           /* Chinese text */\n",
    "    'chinese_number',         /* Chinese page number */\n",
    "    'tibetan_content'         /* Tibetan content */\n",
    "</code></pre>"
   ]
  },
  {
   "cell_type": "code",
   "execution_count": 2,
   "metadata": {},
   "outputs": [],
   "source": [
    "#path = 'images'\n",
    "#files = sorted(os.listdir(path))\n",
    "\n",
    "annotations = {}\n",
    "annotations_path = 'annotations.json'"
   ]
  },
  {
   "cell_type": "markdown",
   "metadata": {},
   "source": [
    "## Read annotations file\n",
    "\n",
    "If an annotation file already exists, we open it so the annotations can be appended or modified."
   ]
  },
  {
   "cell_type": "code",
   "execution_count": 3,
   "metadata": {},
   "outputs": [],
   "source": [
    "try:\n",
    "    with open(annotations_path, 'r') as f:\n",
    "        annotations = json.load(f)\n",
    "except FileNotFoundError:\n",
    "    print( \"%s does not exist yet.\" % annotations_path )"
   ]
  },
  {
   "cell_type": "markdown",
   "metadata": {
    "jp-MarkdownHeadingCollapsed": true
   },
   "source": [
    "# Annotations workflow under the hood stuff"
   ]
  },
  {
   "cell_type": "markdown",
   "metadata": {
    "jp-MarkdownHeadingCollapsed": true
   },
   "source": [
    "## Event driven downloading of PPN's"
   ]
  },
  {
   "cell_type": "code",
   "execution_count": 4,
   "metadata": {},
   "outputs": [],
   "source": [
    "files = []"
   ]
  },
  {
   "cell_type": "code",
   "execution_count": 5,
   "metadata": {},
   "outputs": [],
   "source": [
    "def upd_ppn(change):\n",
    "    metadata = None\n",
    "\n",
    "    with urllib.request.urlopen(\"https://content.staatsbibliothek-berlin.de/dc/%s.mets.xml\" % w_ppn.value) as metadata_url:\n",
    "        metadata = ET.parse(metadata_url).getroot()\n",
    "        for fileGrp in metadata.find('{http://www.loc.gov/METS/}fileSec').findall('{http://www.loc.gov/METS/}fileGrp'):\n",
    "                if( fileGrp.attrib['USE'] == 'DEFAULT' ):\n",
    "                    files.clear()\n",
    "                    w_pagelist.options = []\n",
    "                    for file in fileGrp.findall('{http://www.loc.gov/METS/}file'):\n",
    "                        url = file.find('{http://www.loc.gov/METS/}FLocat').attrib['{http://www.w3.org/1999/xlink}href']\n",
    "                        files.append( url )\n",
    "                    w_pagelist.options = map(lambda url: int(re.search( r'PPN(\\d{10})-(\\d{8})', url )[2]), files )\n"
   ]
  },
  {
   "cell_type": "markdown",
   "metadata": {
    "jp-MarkdownHeadingCollapsed": true
   },
   "source": [
    "## Create UI elements\n",
    "\n",
    "Create all the UI elements we need:\n",
    "    w_ppn: Control to enter the PPN\n",
    "    w_bbox: Control to select the bounding boxes (the actual annotation control)\n",
    "    w_pagelist: Control to select the page within a PPN\n",
    "    w_debug: Nifty space to output some debugging info when needed\n",
    "    q_container: Compound UI element containing all of the above\n",
    "\n",
    "We'll use a `BBoxWidget` for creating annotations for an image. It already has \"Submit\" and \"Skip\" buttons for going through our list of images. Let's also add a progress bar - from the `ipywidgets` library."
   ]
  },
  {
   "cell_type": "code",
   "execution_count": 6,
   "metadata": {},
   "outputs": [],
   "source": [
    "# a progress bar to show how far we got\n",
    "#w_progress = widgets.IntProgress(value=0, max=len(files), description='Progress')\n",
    "# PPN selection\n",
    "w_ppn = widgets.Text(\n",
    "    value='',\n",
    "    placeholder='PPN',\n",
    "    description='PPN:',\n",
    "    #disabled=False   \n",
    ")\n",
    "w_ppn.observe(upd_ppn, names='value')# the bbox widget\n",
    "w_bbox = BBoxWidget(\n",
    "    image = '',\n",
    "    classes=['arabic_numeral', 'illustration_image', 'illustration_caption', 'tibetan_page_number','chinese_text','chinese_number','tibetan_content'],\n",
    ")\n",
    "# selection list to be able to pick the page number directly\n",
    "w_pagelist = widgets.Select(\n",
    "    options=['0'],\n",
    "    rows=10,\n",
    "    value = '0',\n",
    "    description='Page:',\n",
    "    disabled=False\n",
    ")\n",
    "w_debug = widgets.Text(\n",
    "    value='',\n",
    "    placeholder='Type something',\n",
    "    description='Debug:',\n",
    "    disabled=False   \n",
    ")\n",
    "#l_page = widgets.link( (w_progress,'value'), (w_pagelist,'value') )\n",
    "# combine widgets into a container\n",
    "w_container = widgets.VBox([\n",
    "#    w_progress,\n",
    "    w_ppn,\n",
    "    w_debug,\n",
    "    w_pagelist,\n",
    "    w_bbox,\n",
    "])"
   ]
  },
  {
   "cell_type": "markdown",
   "metadata": {},
   "source": [
    "When submit is clicked, we store the annotation into the annotations dict. When skip is pressed, we just advance to the next image."
   ]
  },
  {
   "cell_type": "code",
   "execution_count": 7,
   "metadata": {},
   "outputs": [],
   "source": [
    "# when Skip button is pressed we move on to the next file\n",
    "@w_bbox.on_skip\n",
    "def skip():\n",
    "    if w_pagelist.value is not None:\n",
    "        w_pagelist.value += 1\n",
    "\n",
    "def upd_img(change):\n",
    "    # open new image in the widget\n",
    "    #w_debug.value = change\n",
    "    if change['new'] is None:\n",
    "        return\n",
    "    #w_debug.value = None\n",
    "    w_bbox.image = files[int(change['new'])-1]\n",
    "    # here we assign an empty list to bboxes but \n",
    "    # we could also run a detection model on the file\n",
    "    # and use its output for creating inital bboxes\n",
    "    m = re.search( r'PPN(\\d{10})-(\\d{8})', w_bbox.image )\n",
    "    try:\n",
    "        w_debug.value = \"%s - %d\" % (m[1],int(m[2]))\n",
    "        w_bbox.bboxes = annotations[m[1]][str(int(m[2]))]\n",
    "    except (AttributeError,KeyError):\n",
    "        w_bbox.bboxes = [] \n",
    "\n",
    "# when Submit button is pressed we save current annotations\n",
    "# and then move on to the next file\n",
    "@w_bbox.on_submit\n",
    "def submit():\n",
    "    if w_pagelist.value is None:\n",
    "        return\n",
    "    url = files[w_pagelist.value-1]\n",
    "    m = re.search( r'PPN(\\d{10})-(\\d{8})', url )\n",
    "    if m is not None:\n",
    "        ppn=m[1]\n",
    "        page=str(int(m[2]))\n",
    "        if ppn not in annotations:\n",
    "            annotations[ppn] = {}\n",
    "        # save annotations for current image\n",
    "        annotations[ppn][page] = w_bbox.bboxes\n",
    "    # move on to the next file\n",
    "    skip()\n",
    "\n",
    "w_pagelist.observe(upd_img, names='value')\n"
   ]
  },
  {
   "cell_type": "markdown",
   "metadata": {},
   "source": [
    "# Annotation UI\n",
    "\n",
    "Now we display the container widget and we are ready to annotate."
   ]
  },
  {
   "cell_type": "code",
   "execution_count": 8,
   "metadata": {},
   "outputs": [
    {
     "data": {
      "application/vnd.jupyter.widget-view+json": {
       "model_id": "37e08e2098dc47a7a73a613a23dc771d",
       "version_major": 2,
       "version_minor": 0
      },
      "text/plain": [
       "VBox(children=(Text(value='', description='PPN:', placeholder='PPN'), Text(value='', description='Debug:', pla…"
      ]
     },
     "execution_count": 8,
     "metadata": {},
     "output_type": "execute_result"
    }
   ],
   "source": [
    "w_container"
   ]
  },
  {
   "cell_type": "markdown",
   "metadata": {},
   "source": [
    "# Save annotations file"
   ]
  },
  {
   "cell_type": "markdown",
   "metadata": {},
   "source": [
    "## See annotations"
   ]
  },
  {
   "cell_type": "code",
   "execution_count": null,
   "metadata": {},
   "outputs": [],
   "source": [
    "annotations"
   ]
  },
  {
   "cell_type": "markdown",
   "metadata": {},
   "source": [
    "## Save annotations"
   ]
  },
  {
   "cell_type": "code",
   "execution_count": null,
   "metadata": {},
   "outputs": [],
   "source": [
    "with open(annotations_path, 'w') as f:\n",
    "    json.dump(annotations, f, indent=4)"
   ]
  },
  {
   "cell_type": "code",
   "execution_count": null,
   "metadata": {},
   "outputs": [],
   "source": []
  }
 ],
 "metadata": {
  "kernelspec": {
   "display_name": "annotate",
   "language": "python",
   "name": "annotate"
  },
  "language_info": {
   "codemirror_mode": {
    "name": "ipython",
    "version": 3
   },
   "file_extension": ".py",
   "mimetype": "text/x-python",
   "name": "python",
   "nbconvert_exporter": "python",
   "pygments_lexer": "ipython3",
   "version": "3.11.10"
  }
 },
 "nbformat": 4,
 "nbformat_minor": 4
}
